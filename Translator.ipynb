{
 "cells": [
  {
   "cell_type": "markdown",
   "id": "24f1708d",
   "metadata": {},
   "source": [
    "# Method - 1 "
   ]
  },
  {
   "cell_type": "code",
   "execution_count": 4,
   "id": "07e8b488",
   "metadata": {},
   "outputs": [],
   "source": [
    "from translate import Translator"
   ]
  },
  {
   "cell_type": "code",
   "execution_count": 8,
   "id": "cf1a8dd5",
   "metadata": {},
   "outputs": [
    {
     "name": "stdout",
     "output_type": "stream",
     "text": [
      "कल्याण\n"
     ]
    }
   ],
   "source": [
    "trans = Translator(to_lang='Hindi')\n",
    "myword = trans.translate('Kalyan')\n",
    "print(myword)"
   ]
  },
  {
   "cell_type": "markdown",
   "id": "bc01fa52",
   "metadata": {},
   "source": [
    "# Method - 2"
   ]
  },
  {
   "cell_type": "code",
   "execution_count": 9,
   "id": "bebc51fc",
   "metadata": {},
   "outputs": [
    {
     "name": "stdout",
     "output_type": "stream",
     "text": [
      "Enter the language : English\n",
      "Enter the language to convert : Hindi\n",
      "Enter the word : Kalyan\n",
      "कल्याण\n"
     ]
    }
   ],
   "source": [
    "language = input(\"Enter the language : \")\n",
    "\n",
    "convert_lan = input(\"Enter the language to convert : \")\n",
    "\n",
    "word = input(\"Enter the word : \")\n",
    "\n",
    "trans = Translator(from_lang = language, to_lang = convert_lan)\n",
    "myword = trans.translate(word)\n",
    "print(myword)\n"
   ]
  },
  {
   "cell_type": "code",
   "execution_count": null,
   "id": "6ba11f08",
   "metadata": {},
   "outputs": [],
   "source": []
  },
  {
   "cell_type": "code",
   "execution_count": null,
   "id": "4c8cf498",
   "metadata": {},
   "outputs": [],
   "source": []
  }
 ],
 "metadata": {
  "kernelspec": {
   "display_name": "Python 3 (ipykernel)",
   "language": "python",
   "name": "python3"
  },
  "language_info": {
   "codemirror_mode": {
    "name": "ipython",
    "version": 3
   },
   "file_extension": ".py",
   "mimetype": "text/x-python",
   "name": "python",
   "nbconvert_exporter": "python",
   "pygments_lexer": "ipython3",
   "version": "3.9.9"
  }
 },
 "nbformat": 4,
 "nbformat_minor": 5
}
