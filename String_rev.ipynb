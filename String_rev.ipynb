{
 "cells": [
  {
   "cell_type": "code",
   "execution_count": 4,
   "id": "06fc503e",
   "metadata": {},
   "outputs": [
    {
     "name": "stdout",
     "output_type": "stream",
     "text": [
      "Mystring after reversing & all lower case is segaugnal rehto ot gnirapmoc elihw nrael ot ysae si nohtyp dna nuf si nohtyp ni gnimmargorp\n"
     ]
    }
   ],
   "source": [
    "### Programming in python is fun\n",
    "\n",
    "mystring = \"Programming in python is fun and python is easy to learn while comparing to other languages\"\n",
    "\n",
    "output = mystring.lower()[::-1] \n",
    "print(f\"Mystring after reversing & all lower case is {output}\")"
   ]
  },
  {
   "cell_type": "code",
   "execution_count": null,
   "id": "b86b5044",
   "metadata": {},
   "outputs": [],
   "source": []
  }
 ],
 "metadata": {
  "kernelspec": {
   "display_name": "Python 3 (ipykernel)",
   "language": "python",
   "name": "python3"
  },
  "language_info": {
   "codemirror_mode": {
    "name": "ipython",
    "version": 3
   },
   "file_extension": ".py",
   "mimetype": "text/x-python",
   "name": "python",
   "nbconvert_exporter": "python",
   "pygments_lexer": "ipython3",
   "version": "3.9.9"
  }
 },
 "nbformat": 4,
 "nbformat_minor": 5
}
