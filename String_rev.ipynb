{
 "cells": [
  {
   "cell_type": "code",
   "execution_count": 12,
   "id": "06fc503e",
   "metadata": {},
   "outputs": [
    {
     "name": "stdout",
     "output_type": "stream",
     "text": [
      "mystring after reversing & all lower case is nuf si nohtyp ni gnimmargorp\n"
     ]
    }
   ],
   "source": [
    "### Programming in python is fun\n",
    "\n",
    "mystring = \"Programming in python is fun\"\n",
    "\n",
    "output = mystring.lower()[::-1] \n",
    "print(f\"mystring after reversing & all lower case is {output}\")"
   ]
  },
  {
   "cell_type": "markdown",
   "id": "f4e5019e",
   "metadata": {},
   "source": []
  }
 ],
 "metadata": {
  "kernelspec": {
   "display_name": "Python 3 (ipykernel)",
   "language": "python",
   "name": "python3"
  },
  "language_info": {
   "codemirror_mode": {
    "name": "ipython",
    "version": 3
   },
   "file_extension": ".py",
   "mimetype": "text/x-python",
   "name": "python",
   "nbconvert_exporter": "python",
   "pygments_lexer": "ipython3",
   "version": "3.9.9"
  }
 },
 "nbformat": 4,
 "nbformat_minor": 5
}
