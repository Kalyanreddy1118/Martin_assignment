{
 "cells": [
  {
   "cell_type": "code",
   "execution_count": 2,
   "id": "f6babbc2",
   "metadata": {},
   "outputs": [
    {
     "name": "stdout",
     "output_type": "stream",
     "text": [
      "Enter the word :success\n",
      "The repeated letters are :  ('s',)\n"
     ]
    }
   ],
   "source": [
    "word = input(\"Enter the word :\")\n",
    "def most_repeated_letter(string):\n",
    "    repeated =[]\n",
    "    for i in range(0,len(string)):\n",
    "        count = 0\n",
    "        for j in range(i+1,len(string)):\n",
    "            if(string[i] == string[j]):\n",
    "                count = count+1\n",
    "                string =string[:j] + '0' + string[j+1:]\n",
    "        if(count>1 and string[i] != '0'):\n",
    "            repeated.append(string[i])\n",
    "    return tuple(repeated)\n",
    "print(\"The repeated letters are : \",most_repeated_letter(word))"
   ]
  },
  {
   "cell_type": "code",
   "execution_count": null,
   "id": "81584c60",
   "metadata": {},
   "outputs": [],
   "source": []
  }
 ],
 "metadata": {
  "kernelspec": {
   "display_name": "Python 3 (ipykernel)",
   "language": "python",
   "name": "python3"
  },
  "language_info": {
   "codemirror_mode": {
    "name": "ipython",
    "version": 3
   },
   "file_extension": ".py",
   "mimetype": "text/x-python",
   "name": "python",
   "nbconvert_exporter": "python",
   "pygments_lexer": "ipython3",
   "version": "3.9.9"
  }
 },
 "nbformat": 4,
 "nbformat_minor": 5
}
