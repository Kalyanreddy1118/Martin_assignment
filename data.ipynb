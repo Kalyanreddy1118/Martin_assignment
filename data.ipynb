{
 "cells": [
  {
   "cell_type": "code",
   "execution_count": null,
   "id": "7f1f8678",
   "metadata": {},
   "outputs": [],
   "source": [
    "from collections import Counter\n",
    "import urllib\n",
    "from urllib.request import urlopen\n",
    "data_set = urlopen(\"https://gknxt.com/python/data/shakespeare.txt\").read().decode('utf-8')\n",
    "split_it=data_set.split()\n",
    "Counters_found =Counter(split_it)\n",
    "longest=max(data_set.split(),key=len)\n",
    "print(\"Longest word from the text is :\",longest)"
   ]
  },
  {
   "cell_type": "code",
   "execution_count": null,
   "id": "f1718161",
   "metadata": {},
   "outputs": [],
   "source": []
  }
 ],
 "metadata": {
  "kernelspec": {
   "display_name": "Python 3 (ipykernel)",
   "language": "python",
   "name": "python3"
  },
  "language_info": {
   "codemirror_mode": {
    "name": "ipython",
    "version": 3
   },
   "file_extension": ".py",
   "mimetype": "text/x-python",
   "name": "python",
   "nbconvert_exporter": "python",
   "pygments_lexer": "ipython3",
   "version": "3.9.9"
  }
 },
 "nbformat": 4,
 "nbformat_minor": 5
}
