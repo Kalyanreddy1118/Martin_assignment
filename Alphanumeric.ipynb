{
 "cells": [
  {
   "cell_type": "code",
   "execution_count": 5,
   "id": "4e65d4f4",
   "metadata": {},
   "outputs": [
    {
     "name": "stdout",
     "output_type": "stream",
     "text": [
      "Enter the key to print the next in the sequence : z\n",
      "A\n"
     ]
    }
   ],
   "source": [
    "alphanumeric_dict = {'A': 'B', 'B': 'C', 'C': 'D', 'D': 'E', 'E': 'F', 'F': 'G', 'G': 'H', 'H': 'I', \n",
    "                     'I': 'J' ,'J': 'K', 'K': 'L', 'L': 'M', 'M': 'N', 'N': '0', '0': 'P', 'P': 'Q', \n",
    "                     'Q': 'R', 'R': 'S', 'S': 'T', 'T': 'U', 'U': 'V', 'V': 'W', 'W': 'X', 'X':'Y', \n",
    "                     'Y': 'Z', 'Z': 'A','0': '1', '1': '2', '2': '3', '3': '4', '4': '5','5':'6', \n",
    "                     '6': '7', '7': '8', '8': '9', '9': '0'}  \n",
    "\n",
    "key = input(\"Enter the key to print the next in the sequence : \")\n",
    "print(alphanumeric_dict.get(key.upper()))"
   ]
  },
  {
   "cell_type": "code",
   "execution_count": null,
   "id": "0dad1d53",
   "metadata": {},
   "outputs": [],
   "source": []
  }
 ],
 "metadata": {
  "kernelspec": {
   "display_name": "Python 3 (ipykernel)",
   "language": "python",
   "name": "python3"
  },
  "language_info": {
   "codemirror_mode": {
    "name": "ipython",
    "version": 3
   },
   "file_extension": ".py",
   "mimetype": "text/x-python",
   "name": "python",
   "nbconvert_exporter": "python",
   "pygments_lexer": "ipython3",
   "version": "3.9.9"
  }
 },
 "nbformat": 4,
 "nbformat_minor": 5
}
