{
 "cells": [
  {
   "cell_type": "code",
   "execution_count": 23,
   "id": "e6071c15",
   "metadata": {},
   "outputs": [
    {
     "name": "stdout",
     "output_type": "stream",
     "text": [
      "Enter the first word : SIlent\n",
      "Enter the second word : LisTen\n",
      "Given two strings SILENT and LISTEN are anagram.\n"
     ]
    }
   ],
   "source": [
    "str1 = (input(\"Enter the first word : \"))\n",
    "str2 = (input(\"Enter the second word : \"))\n",
    "\n",
    "str1 = str1.upper()\n",
    "str2 = str2.upper()\n",
    "\n",
    "if(len(str1) == len(str2)):\n",
    "    sorted_str1 = sorted(str1)\n",
    "    sorted_str2 = sorted(str2)\n",
    "    \n",
    "    if(sorted_str1 == sorted_str2):\n",
    "        print(f\"Given two strings {str1} and {str2} are anagram.\")\n",
    "    else:\n",
    "        print(f\"Given two strings {str1} and {str2} are not anagram.\")\n",
    "        \n",
    "else:\n",
    "    print(f\"Given strings {str1} and {str2} are not of equal length, {str1} and {str2} are not anagram. \")\n",
    "    \n",
    "\n"
   ]
  },
  {
   "cell_type": "code",
   "execution_count": 1,
   "id": "a4945f84",
   "metadata": {},
   "outputs": [
    {
     "name": "stdout",
     "output_type": "stream",
     "text": [
      "Enter the first word : BIKe\n",
      "Enter the second word : caR\n",
      "Given strings BIKE and CAR are not of equal length, BIKE and CAR are not anagram. \n"
     ]
    }
   ],
   "source": [
    "str1 = (input(\"Enter the first word : \"))\n",
    "str2 = (input(\"Enter the second word : \"))\n",
    "\n",
    "str1 = str1.upper()\n",
    "str2 = str2.upper()\n",
    "\n",
    "if(len(str1) == len(str2)):\n",
    "    sorted_str1 = sorted(str1)\n",
    "    sorted_str2 = sorted(str2)\n",
    "    \n",
    "    if(sorted_str1 == sorted_str2):\n",
    "        print(f\"Given two strings {str1} and {str2} are anagram.\")\n",
    "    else:\n",
    "        print(f\"Given two strings {str1} and {str2} are not anagram.\")\n",
    "        \n",
    "else:\n",
    "    print(f\"Given strings {str1} and {str2} are not of equal length, {str1} and {str2} are not anagram. \")"
   ]
  },
  {
   "cell_type": "code",
   "execution_count": null,
   "id": "21b876fa",
   "metadata": {},
   "outputs": [],
   "source": []
  },
  {
   "cell_type": "code",
   "execution_count": null,
   "id": "a6b53469",
   "metadata": {},
   "outputs": [],
   "source": []
  }
 ],
 "metadata": {
  "kernelspec": {
   "display_name": "Python 3 (ipykernel)",
   "language": "python",
   "name": "python3"
  },
  "language_info": {
   "codemirror_mode": {
    "name": "ipython",
    "version": 3
   },
   "file_extension": ".py",
   "mimetype": "text/x-python",
   "name": "python",
   "nbconvert_exporter": "python",
   "pygments_lexer": "ipython3",
   "version": "3.9.9"
  }
 },
 "nbformat": 4,
 "nbformat_minor": 5
}
