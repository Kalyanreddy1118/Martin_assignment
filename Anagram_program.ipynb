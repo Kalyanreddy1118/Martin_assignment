{
 "cells": [
  {
   "cell_type": "markdown",
   "id": "d258dcb9",
   "metadata": {},
   "source": [
    "# Assignment_08 submitted by Kalyanreddy"
   ]
  },
  {
   "cell_type": "code",
   "execution_count": 23,
   "id": "fc7125d3",
   "metadata": {},
   "outputs": [
    {
     "name": "stdout",
     "output_type": "stream",
     "text": [
      "Enter the first word : SIlent\n",
      "Enter the second word : LisTen\n",
      "Given two strings SILENT and LISTEN are anagram.\n"
     ]
    }
   ],
   "source": [
    "str1 = (input(\"Enter the first word : \"))\n",
    "str2 = (input(\"Enter the second word : \"))\n",
    "\n",
    "str1 = str1.upper()\n",
    "str2 = str2.upper()\n",
    "\n",
    "if(len(str1) == len(str2)):\n",
    "    sorted_str1 = sorted(str1)\n",
    "    sorted_str2 = sorted(str2)\n",
    "    \n",
    "    if(sorted_str1 == sorted_str2):\n",
    "        print(f\"Given two strings {str1} and {str2} are anagram.\")\n",
    "    else:\n",
    "        print(f\"Given two strings {str1} and {str2} are not anagram.\")\n",
    "        \n",
    "else:\n",
    "    print(f\"Given strings {str1} and {str2} are not of equal length, {str1} and {str2} are not anagram. \")\n",
    "    \n",
    "\n"
   ]
  },
  {
   "cell_type": "code",
   "execution_count": null,
   "id": "b8581803",
   "metadata": {},
   "outputs": [],
   "source": []
  },
  {
   "cell_type": "code",
   "execution_count": null,
   "id": "4e1e592b",
   "metadata": {},
   "outputs": [],
   "source": []
  },
  {
   "cell_type": "code",
   "execution_count": null,
   "id": "c2101d44",
   "metadata": {},
   "outputs": [],
   "source": []
  }
 ],
 "metadata": {
  "kernelspec": {
   "display_name": "Python 3 (ipykernel)",
   "language": "python",
   "name": "python3"
  },
  "language_info": {
   "codemirror_mode": {
    "name": "ipython",
    "version": 3
   },
   "file_extension": ".py",
   "mimetype": "text/x-python",
   "name": "python",
   "nbconvert_exporter": "python",
   "pygments_lexer": "ipython3",
   "version": "3.9.9"
  }
 },
 "nbformat": 4,
 "nbformat_minor": 5
}
