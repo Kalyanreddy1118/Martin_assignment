{
 "cells": [
  {
   "cell_type": "code",
   "execution_count": 2,
   "id": "0f7f6210",
   "metadata": {},
   "outputs": [
    {
     "name": "stdout",
     "output_type": "stream",
     "text": [
      "Enter any number : 11180607\n",
      "11180607 0b101010101001101000111111\n",
      "11180607 0o52515077\n",
      "11180607 0xaa9a3f\n"
     ]
    }
   ],
   "source": [
    "mynum = int(input(\"Enter any number : \"))\n",
    "\n",
    "print(mynum,bin(mynum))\n",
    "print(mynum,oct(mynum))\n",
    "print(mynum,hex(mynum))"
   ]
  },
  {
   "cell_type": "code",
   "execution_count": null,
   "id": "f5206431",
   "metadata": {},
   "outputs": [],
   "source": []
  },
  {
   "cell_type": "code",
   "execution_count": null,
   "id": "f3cdba3e",
   "metadata": {},
   "outputs": [],
   "source": []
  }
 ],
 "metadata": {
  "kernelspec": {
   "display_name": "Python 3 (ipykernel)",
   "language": "python",
   "name": "python3"
  },
  "language_info": {
   "codemirror_mode": {
    "name": "ipython",
    "version": 3
   },
   "file_extension": ".py",
   "mimetype": "text/x-python",
   "name": "python",
   "nbconvert_exporter": "python",
   "pygments_lexer": "ipython3",
   "version": "3.9.9"
  }
 },
 "nbformat": 4,
 "nbformat_minor": 5
}
