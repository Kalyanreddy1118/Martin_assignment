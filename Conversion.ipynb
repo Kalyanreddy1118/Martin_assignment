{
 "cells": [
  {
   "cell_type": "code",
   "execution_count": 1,
   "id": "0f7f6210",
   "metadata": {},
   "outputs": [
    {
     "name": "stdout",
     "output_type": "stream",
     "text": [
      "Enter any number67\n",
      "67 0b1000011\n",
      "67 0o103\n",
      "67 0x43\n"
     ]
    }
   ],
   "source": [
    "num = int(input(\"Enter any number\"))\n",
    "\n",
    "print(num,bin(num))\n",
    "print(num,oct(num))\n",
    "print(num,hex(num))"
   ]
  },
  {
   "cell_type": "code",
   "execution_count": null,
   "id": "f5206431",
   "metadata": {},
   "outputs": [],
   "source": []
  },
  {
   "cell_type": "code",
   "execution_count": null,
   "id": "f3cdba3e",
   "metadata": {},
   "outputs": [],
   "source": []
  }
 ],
 "metadata": {
  "kernelspec": {
   "display_name": "Python 3 (ipykernel)",
   "language": "python",
   "name": "python3"
  },
  "language_info": {
   "codemirror_mode": {
    "name": "ipython",
    "version": 3
   },
   "file_extension": ".py",
   "mimetype": "text/x-python",
   "name": "python",
   "nbconvert_exporter": "python",
   "pygments_lexer": "ipython3",
   "version": "3.9.9"
  }
 },
 "nbformat": 4,
 "nbformat_minor": 5
}
