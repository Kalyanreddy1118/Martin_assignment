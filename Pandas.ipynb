{
 "cells": [
  {
   "cell_type": "code",
   "execution_count": 18,
   "id": "99137583",
   "metadata": {},
   "outputs": [
    {
     "name": "stdout",
     "output_type": "stream",
     "text": [
      "The total number of fire department facilities in the New York city :  219\n",
      "Brooklyn         66\n",
      "Queens           50\n",
      "Manhattan        48\n",
      "Bronx            34\n",
      "Staten Island    20\n",
      "Borough           1\n",
      "Name: Borough, dtype: int64\n",
      "1                                    Engine 4/Ladder 15\n",
      "2                                   Engine 10/Ladder 10\n",
      "3                                              Engine 6\n",
      "4     Engine 7/Ladder 1/Battalion 1/Manhattan Boroug...\n",
      "5                                              Ladder 8\n",
      "6                                     Engine 9/Ladder 6\n",
      "7                       Engine 15/Ladder 18/Battalion 4\n",
      "8                                   Engine 28/Ladder 11\n",
      "9                                              Engine 5\n",
      "10                                            Engine 55\n",
      "11                                 Ladder 20/Division 1\n",
      "12                       Engine 24/Ladder 5/Battalion 2\n",
      "13                                   Engine 33/Ladder 9\n",
      "14                                 Ladder 3/Battalion 6\n",
      "15                                             Squad 18\n",
      "16                                  Engine 34/Ladder 21\n",
      "17                                            Engine 26\n",
      "18                       Engine 3/Ladder 12/Battalion 7\n",
      "19                                   Engine 1/Ladder 24\n",
      "20                                            Engine 14\n",
      "21                                Engine 16 / Ladder 7 \n",
      "22                                            Engine 21\n",
      "23                       Engine 54/Ladder 4/Battalion 9\n",
      "24                                            Engine 23\n",
      "25                                             Rescue 1\n",
      "26                                  Engine 40/Ladder 35\n",
      "27               Ladder 25/District Office 4/Division 3\n",
      "28                                            Engine 74\n",
      "29                                            Engine 65\n",
      "30                    Engine 8 / Ladder 2 / Battalion 8\n",
      "31                                  Engine 39/Ladder 16\n",
      "32                                            Engine 44\n",
      "33                     Engine 22/Ladder 13/Battalion 10\n",
      "34                                  Engine 58/Ladder 26\n",
      "35                                  Engine 53/Ladder 43\n",
      "36                                            Engine 91\n",
      "37                                  Engine 35/Ladder 14\n",
      "38                     Engine 76/Ladder 22/Battalion 11\n",
      "39                                            Engine 47\n",
      "40                                  Engine 59/Ladder 30\n",
      "41                                  Engine 37/Ladder 40\n",
      "42                     Engine 69/Ladder 28/Battalion 16\n",
      "43                                  Engine 80/Ladder 23\n",
      "44                                  Engine 84/Ladder 34\n",
      "45                                            Engine 67\n",
      "46                     Engine 93/Ladder 45/Battalion 13\n",
      "47                                  Engine 95/Ladder 36\n",
      "48                                             Marine 1\n",
      "Name: FacilityName, dtype: object\n"
     ]
    }
   ],
   "source": [
    "import pandas as pd\n",
    "my_file = pd.read_csv(\"FDNY.csv\")\n",
    "my_df = pd.DataFrame(my_file)\n",
    "\n",
    "print('The total number of fire department facilities in the New York city : ',len(fdny_df))\n",
    "no_of_borough = fdny_file['Borough'].value_counts()\n",
    "\n",
    "print(no_of_borough)\n",
    "manhattan_fd_details = fdny_file[fdny_file['Borough'] == 'Manhattan'] \n",
    "\n",
    "print(manhattan_fd_details['FacilityName'])"
   ]
  },
  {
   "cell_type": "code",
   "execution_count": null,
   "id": "f9b5188e",
   "metadata": {},
   "outputs": [],
   "source": []
  }
 ],
 "metadata": {
  "kernelspec": {
   "display_name": "Python 3 (ipykernel)",
   "language": "python",
   "name": "python3"
  },
  "language_info": {
   "codemirror_mode": {
    "name": "ipython",
    "version": 3
   },
   "file_extension": ".py",
   "mimetype": "text/x-python",
   "name": "python",
   "nbconvert_exporter": "python",
   "pygments_lexer": "ipython3",
   "version": "3.9.9"
  }
 },
 "nbformat": 4,
 "nbformat_minor": 5
}
