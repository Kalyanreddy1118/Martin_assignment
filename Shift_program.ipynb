{
 "cells": [
  {
   "cell_type": "markdown",
   "id": "6148cbbe",
   "metadata": {},
   "source": [
    "# Encoding the given message as an input\n",
    "\n",
    "By Kalyanreddy (19K-437)"
   ]
  },
  {
   "cell_type": "code",
   "execution_count": 6,
   "id": "79ebe33f",
   "metadata": {},
   "outputs": [
    {
     "name": "stdout",
     "output_type": "stream",
     "text": [
      "Enter the text here : gwhuwj\n",
      "Enter the number of positions to be shifted :4\n",
      "Encoded message is : \n",
      "kalyan\n"
     ]
    }
   ],
   "source": [
    "string = \"abcdefghijklmnopqrstuvwxyz\"\n",
    "STRING = string.upper()\n",
    "message = input(\"Enter the text here : \")\n",
    "data = []\n",
    "shift = int(input(\"Enter the number of positions to be shifted :\"))\n",
    "print(\"Encoded message is : \")\n",
    "for i in message:\n",
    "    if i in string:\n",
    "        data.append(string[(string.index(i)+shift)%26])  #encoding for lower case\n",
    "    else:\n",
    "        data.append(STRING[(STRING.index(i)+shift)%26])  #encoding for upper case\n",
    "output = ''.join(data)\n",
    "print(output)"
   ]
  },
  {
   "cell_type": "code",
   "execution_count": null,
   "id": "42e582b5",
   "metadata": {},
   "outputs": [],
   "source": []
  }
 ],
 "metadata": {
  "kernelspec": {
   "display_name": "Python 3 (ipykernel)",
   "language": "python",
   "name": "python3"
  },
  "language_info": {
   "codemirror_mode": {
    "name": "ipython",
    "version": 3
   },
   "file_extension": ".py",
   "mimetype": "text/x-python",
   "name": "python",
   "nbconvert_exporter": "python",
   "pygments_lexer": "ipython3",
   "version": "3.9.9"
  }
 },
 "nbformat": 4,
 "nbformat_minor": 5
}
