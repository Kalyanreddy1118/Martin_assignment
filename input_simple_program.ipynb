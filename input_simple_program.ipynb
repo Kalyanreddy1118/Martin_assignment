{
 "cells": [
  {
   "cell_type": "code",
   "execution_count": 2,
   "id": "8f71791a",
   "metadata": {},
   "outputs": [
    {
     "name": "stdout",
     "output_type": "stream",
     "text": [
      "Enter the number : 12345690\n",
      "Enter the base (2 or 8 or 16) : 8\n",
      "Decimal number of a given number is 0o57060532\n"
     ]
    }
   ],
   "source": [
    "Number = int(input(\"Enter the number : \"))\n",
    "Base = int(input(\"Enter the base (2 or 8 or 16) : \"))\n",
    "if Base == 2:\n",
    "    Decimal_num = bin(Number)\n",
    "    print(f\"Decimal number of a given number is {Decimal_num}\")\n",
    "elif Base == 8:\n",
    "    Decimal_num = oct(Number)\n",
    "    print(f\"Decimal number of a given number is {Decimal_num}\")\n",
    "elif Base == 16:\n",
    "    Decimal_num = hex(Number)\n",
    "    print(f\"Decimal number of a given number is {Decimal_num}\")\n",
    "\n",
    "else:\n",
    "    print(\"Invalid base. \")\n",
    "   \n",
    "    "
   ]
  },
  {
   "cell_type": "code",
   "execution_count": null,
   "id": "29a69d3d",
   "metadata": {},
   "outputs": [],
   "source": []
  },
  {
   "cell_type": "code",
   "execution_count": null,
   "id": "8aff59ef",
   "metadata": {},
   "outputs": [],
   "source": []
  }
 ],
 "metadata": {
  "kernelspec": {
   "display_name": "Python 3 (ipykernel)",
   "language": "python",
   "name": "python3"
  },
  "language_info": {
   "codemirror_mode": {
    "name": "ipython",
    "version": 3
   },
   "file_extension": ".py",
   "mimetype": "text/x-python",
   "name": "python",
   "nbconvert_exporter": "python",
   "pygments_lexer": "ipython3",
   "version": "3.9.9"
  }
 },
 "nbformat": 4,
 "nbformat_minor": 5
}
