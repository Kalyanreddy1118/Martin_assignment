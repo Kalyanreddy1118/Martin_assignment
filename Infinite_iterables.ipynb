{
 "cells": [
  {
   "cell_type": "code",
   "execution_count": 11,
   "id": "96fd9a2e",
   "metadata": {},
   "outputs": [
    {
     "name": "stdout",
     "output_type": "stream",
     "text": [
      "1\n",
      "2\n",
      "3\n",
      "4\n",
      "5\n",
      "6\n",
      "7\n",
      "8\n",
      "9\n",
      "10\n",
      "11\n",
      "12\n",
      "1\n",
      "2\n",
      "3\n",
      "4\n",
      "5\n"
     ]
    }
   ],
   "source": [
    "from itertools import cycle                        #object is iterated again and again.\n",
    "\n",
    "time_list = cycle([1,2,3,4,5,6,7,8,9,10,11,12])    #time displayed in watch.\n",
    "print(next(time_list ))\n",
    "print(next(time_list ))\n",
    "print(next(time_list ))\n",
    "print(next(time_list ))\n",
    "print(next(time_list ))\n",
    "print(next(time_list ))\n",
    "print(next(time_list ))\n",
    "print(next(time_list ))\n",
    "print(next(time_list ))\n",
    "print(next(time_list ))\n",
    "print(next(time_list ))\n",
    "print(next(time_list ))\n",
    "print(next(time_list ))\n",
    "print(next(time_list ))\n",
    "print(next(time_list ))\n",
    "print(next(time_list ))\n",
    "print(next(time_list ))"
   ]
  },
  {
   "cell_type": "code",
   "execution_count": 10,
   "id": "10e2803a",
   "metadata": {},
   "outputs": [
    {
     "name": "stdout",
     "output_type": "stream",
     "text": [
      "1000\n",
      "1050\n",
      "1100\n",
      "1150\n",
      "1200\n",
      "1250\n",
      "1300\n",
      "1350\n",
      "1400\n",
      "1450\n",
      "1500\n",
      "1550\n",
      "1600\n",
      "1650\n",
      "1700\n",
      "1750\n",
      "1800\n"
     ]
    }
   ],
   "source": [
    "from itertools import count       #iterates with start and stepsize.\n",
    "\n",
    "count_ = count(1000,50)           #Emi to be paid with intrest per month.\n",
    "print(next(count_))\n",
    "print(next(count_))\n",
    "print(next(count_))\n",
    "print(next(count_))\n",
    "print(next(count_))\n",
    "print(next(count_))\n",
    "print(next(count_))\n",
    "print(next(count_))\n",
    "print(next(count_))\n",
    "print(next(count_))\n",
    "print(next(count_))\n",
    "print(next(count_))\n",
    "print(next(count_))\n",
    "print(next(count_))\n",
    "print(next(count_))\n",
    "print(next(count_))\n",
    "print(next(count_))"
   ]
  },
  {
   "cell_type": "code",
   "execution_count": 12,
   "id": "939beb9e",
   "metadata": {},
   "outputs": [
    {
     "name": "stdout",
     "output_type": "stream",
     "text": [
      "['Thank you visit again']\n",
      "['Thank you visit again']\n",
      "['Thank you visit again']\n",
      "['Thank you visit again']\n",
      "['Thank you visit again']\n",
      "['Thank you visit again']\n",
      "['Thank you visit again']\n"
     ]
    }
   ],
   "source": [
    "from itertools import repeat           #iterates the same object for many times.\n",
    "\n",
    "message = [\"Thank you visit again\"]   # Message from a restaurant to visitors while leaving.\n",
    "m = repeat(message)\n",
    "print(next(m))\n",
    "print(next(m))\n",
    "print(next(m))\n",
    "print(next(m))\n",
    "print(next(m))\n",
    "print(next(m))\n",
    "print(next(m))\n"
   ]
  },
  {
   "cell_type": "code",
   "execution_count": null,
   "id": "b3f78d09",
   "metadata": {},
   "outputs": [],
   "source": []
  },
  {
   "cell_type": "code",
   "execution_count": null,
   "id": "42143e7c",
   "metadata": {},
   "outputs": [],
   "source": []
  },
  {
   "cell_type": "code",
   "execution_count": null,
   "id": "bf86bc11",
   "metadata": {},
   "outputs": [],
   "source": []
  }
 ],
 "metadata": {
  "kernelspec": {
   "display_name": "Python 3 (ipykernel)",
   "language": "python",
   "name": "python3"
  },
  "language_info": {
   "codemirror_mode": {
    "name": "ipython",
    "version": 3
   },
   "file_extension": ".py",
   "mimetype": "text/x-python",
   "name": "python",
   "nbconvert_exporter": "python",
   "pygments_lexer": "ipython3",
   "version": "3.9.9"
  }
 },
 "nbformat": 4,
 "nbformat_minor": 5
}
