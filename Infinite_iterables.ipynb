{
 "cells": [
  {
   "cell_type": "code",
   "execution_count": 6,
   "id": "96fd9a2e",
   "metadata": {},
   "outputs": [
    {
     "name": "stdout",
     "output_type": "stream",
     "text": [
      "1\n",
      "2\n",
      "3\n",
      "4\n",
      "5\n",
      "6\n",
      "7\n",
      "8\n",
      "9\n",
      "10\n",
      "11\n",
      "12\n",
      "1\n",
      "2\n",
      "3\n",
      "4\n",
      "5\n",
      "6\n",
      "7\n",
      "8\n",
      "9\n",
      "10\n",
      "11\n",
      "12\n"
     ]
    }
   ],
   "source": [
    "from itertools import cycle                        #object is iterated again and again.\n",
    "\n",
    "time_list = cycle([1,2,3,4,5,6,7,8,9,10,11,12])    #time displayed in watch.\n",
    "print(next(time_list ))\n",
    "print(next(time_list ))\n",
    "print(next(time_list ))\n",
    "print(next(time_list ))\n",
    "print(next(time_list ))\n",
    "print(next(time_list ))\n",
    "print(next(time_list ))\n",
    "print(next(time_list ))\n",
    "print(next(time_list ))\n",
    "print(next(time_list ))\n",
    "print(next(time_list ))\n",
    "print(next(time_list ))\n",
    "print(next(time_list ))\n",
    "print(next(time_list ))\n",
    "print(next(time_list ))\n",
    "print(next(time_list ))\n",
    "print(next(time_list ))\n",
    "print(next(time_list ))\n",
    "print(next(time_list ))\n",
    "print(next(time_list ))\n",
    "print(next(time_list ))\n",
    "print(next(time_list ))\n",
    "print(next(time_list ))\n",
    "print(next(time_list ))\n"
   ]
  },
  {
   "cell_type": "code",
   "execution_count": 5,
   "id": "10e2803a",
   "metadata": {},
   "outputs": [
    {
     "name": "stdout",
     "output_type": "stream",
     "text": [
      "50000\n",
      "50500\n",
      "51000\n",
      "51500\n",
      "52000\n",
      "52500\n",
      "53000\n",
      "53500\n",
      "54000\n",
      "54500\n",
      "55000\n",
      "55500\n",
      "56000\n",
      "56500\n",
      "57000\n",
      "57500\n",
      "58000\n"
     ]
    }
   ],
   "source": [
    "from itertools import count       #iterates with start and stepsize.\n",
    "\n",
    "count_ = count(50000,500)           #Emi to be paid with intrest per month.\n",
    "print(next(count_))\n",
    "print(next(count_))\n",
    "print(next(count_))\n",
    "print(next(count_))\n",
    "print(next(count_))\n",
    "print(next(count_))\n",
    "print(next(count_))\n",
    "print(next(count_))\n",
    "print(next(count_))\n",
    "print(next(count_))\n",
    "print(next(count_))\n",
    "print(next(count_))\n",
    "print(next(count_))\n",
    "print(next(count_))\n",
    "print(next(count_))\n",
    "print(next(count_))\n",
    "print(next(count_))"
   ]
  },
  {
   "cell_type": "code",
   "execution_count": 1,
   "id": "939beb9e",
   "metadata": {},
   "outputs": [
    {
     "name": "stdout",
     "output_type": "stream",
     "text": [
      "['WELCOME']\n",
      "['WELCOME']\n",
      "['WELCOME']\n",
      "['WELCOME']\n",
      "['WELCOME']\n",
      "['WELCOME']\n",
      "['WELCOME']\n"
     ]
    }
   ],
   "source": [
    "from itertools import repeat           #iterates the same object for many times.\n",
    "\n",
    "message = [\"WELCOME\"]   # Message from a restaurant to visitors while leaving.\n",
    "m = repeat(message)\n",
    "print(next(m))\n",
    "print(next(m))\n",
    "print(next(m))\n",
    "print(next(m))\n",
    "print(next(m))\n",
    "print(next(m))\n",
    "print(next(m))\n"
   ]
  },
  {
   "cell_type": "code",
   "execution_count": null,
   "id": "b3f78d09",
   "metadata": {},
   "outputs": [],
   "source": []
  },
  {
   "cell_type": "code",
   "execution_count": null,
   "id": "42143e7c",
   "metadata": {},
   "outputs": [],
   "source": []
  },
  {
   "cell_type": "code",
   "execution_count": null,
   "id": "bf86bc11",
   "metadata": {},
   "outputs": [],
   "source": []
  }
 ],
 "metadata": {
  "kernelspec": {
   "display_name": "Python 3 (ipykernel)",
   "language": "python",
   "name": "python3"
  },
  "language_info": {
   "codemirror_mode": {
    "name": "ipython",
    "version": 3
   },
   "file_extension": ".py",
   "mimetype": "text/x-python",
   "name": "python",
   "nbconvert_exporter": "python",
   "pygments_lexer": "ipython3",
   "version": "3.9.9"
  }
 },
 "nbformat": 4,
 "nbformat_minor": 5
}
