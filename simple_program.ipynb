{
 "cells": [
  {
   "cell_type": "markdown",
   "id": "2a5c763b",
   "metadata": {},
   "source": [
    "# Expected_output\n",
    "\n",
    "[('a', 1), ('b', 2), ('c', 3), ('d', 4), ('e', 5), ('f', 6), ('g', 7), ('h', 8),\n",
    " ('i', 9), ('j', 10),('k', 11), ('l', 12), ('m', 13), ('n', 14), ('o', 15), \n",
    " ('p', 16), ('q', 17), ('r', 18), ('s', 19), ('t', 20), ('u', 21), ('v', 22), \n",
    " ('w', 23), ('x', 24), ('y', 25), ('z', 26)]"
   ]
  },
  {
   "cell_type": "code",
   "execution_count": 2,
   "id": "1030c775",
   "metadata": {},
   "outputs": [
    {
     "name": "stdout",
     "output_type": "stream",
     "text": [
      "[('a', 1), ('b', 2), ('c', 3), ('d', 4), ('e', 5), ('f', 6), ('g', 7), ('h', 8), ('i', 9), ('j', 10), ('k', 11), ('l', 12), ('m', 13), ('n', 14), ('o', 15), ('p', 16), ('q', 17), ('r', 18), ('s', 19), ('t', 20), ('u', 21), ('v', 22), ('w', 23), ('x', 24), ('y', 25), ('z', 26)]\n"
     ]
    }
   ],
   "source": [
    "import string  #importing string will help us to use alphabets.\n",
    "\n",
    "Range = range(1,27)    \n",
    "alpha = list(string.ascii_lowercase)\n",
    "output = list(zip(alpha,Range))\n",
    "print(output)"
   ]
  },
  {
   "cell_type": "code",
   "execution_count": null,
   "id": "89a8f563",
   "metadata": {},
   "outputs": [],
   "source": []
  }
 ],
 "metadata": {
  "kernelspec": {
   "display_name": "Python 3 (ipykernel)",
   "language": "python",
   "name": "python3"
  },
  "language_info": {
   "codemirror_mode": {
    "name": "ipython",
    "version": 3
   },
   "file_extension": ".py",
   "mimetype": "text/x-python",
   "name": "python",
   "nbconvert_exporter": "python",
   "pygments_lexer": "ipython3",
   "version": "3.9.9"
  }
 },
 "nbformat": 4,
 "nbformat_minor": 5
}
